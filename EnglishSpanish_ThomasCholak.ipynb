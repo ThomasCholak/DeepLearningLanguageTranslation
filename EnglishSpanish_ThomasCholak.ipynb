{
  "nbformat": 4,
  "nbformat_minor": 0,
  "metadata": {
    "colab": {
      "provenance": []
    },
    "kernelspec": {
      "name": "python3",
      "display_name": "Python 3"
    },
    "language_info": {
      "name": "python"
    }
  },
  "cells": [
    {
      "cell_type": "markdown",
      "source": [
        "# English-to-Spanish Translation Model\n",
        "Thomas Cholak"
      ],
      "metadata": {
        "id": "xu8tRcEahnN1"
      }
    },
    {
      "cell_type": "markdown",
      "source": [
        "need to install before we can download from kaggle"
      ],
      "metadata": {
        "id": "vki9R4sVVPhK"
      }
    },
    {
      "cell_type": "code",
      "execution_count": null,
      "metadata": {
        "id": "vcw6FHYeJOaa",
        "colab": {
          "base_uri": "https://localhost:8080/"
        },
        "outputId": "c4892b64-ff82-4701-f07a-c31b78d4297f"
      },
      "outputs": [
        {
          "output_type": "stream",
          "name": "stdout",
          "text": [
            "Collecting opendatasets\n",
            "  Downloading opendatasets-0.1.22-py3-none-any.whl (15 kB)\n",
            "Requirement already satisfied: tqdm in /usr/local/lib/python3.10/dist-packages (from opendatasets) (4.66.2)\n",
            "Requirement already satisfied: kaggle in /usr/local/lib/python3.10/dist-packages (from opendatasets) (1.5.16)\n",
            "Requirement already satisfied: click in /usr/local/lib/python3.10/dist-packages (from opendatasets) (8.1.7)\n",
            "Requirement already satisfied: six>=1.10 in /usr/local/lib/python3.10/dist-packages (from kaggle->opendatasets) (1.16.0)\n",
            "Requirement already satisfied: certifi in /usr/local/lib/python3.10/dist-packages (from kaggle->opendatasets) (2024.2.2)\n",
            "Requirement already satisfied: python-dateutil in /usr/local/lib/python3.10/dist-packages (from kaggle->opendatasets) (2.8.2)\n",
            "Requirement already satisfied: requests in /usr/local/lib/python3.10/dist-packages (from kaggle->opendatasets) (2.31.0)\n",
            "Requirement already satisfied: python-slugify in /usr/local/lib/python3.10/dist-packages (from kaggle->opendatasets) (8.0.4)\n",
            "Requirement already satisfied: urllib3 in /usr/local/lib/python3.10/dist-packages (from kaggle->opendatasets) (2.0.7)\n",
            "Requirement already satisfied: bleach in /usr/local/lib/python3.10/dist-packages (from kaggle->opendatasets) (6.1.0)\n",
            "Requirement already satisfied: webencodings in /usr/local/lib/python3.10/dist-packages (from bleach->kaggle->opendatasets) (0.5.1)\n",
            "Requirement already satisfied: text-unidecode>=1.3 in /usr/local/lib/python3.10/dist-packages (from python-slugify->kaggle->opendatasets) (1.3)\n",
            "Requirement already satisfied: charset-normalizer<4,>=2 in /usr/local/lib/python3.10/dist-packages (from requests->kaggle->opendatasets) (3.3.2)\n",
            "Requirement already satisfied: idna<4,>=2.5 in /usr/local/lib/python3.10/dist-packages (from requests->kaggle->opendatasets) (3.7)\n",
            "Installing collected packages: opendatasets\n",
            "Successfully installed opendatasets-0.1.22\n"
          ]
        }
      ],
      "source": [
        "pip install opendatasets"
      ]
    },
    {
      "cell_type": "markdown",
      "source": [
        "need for the transformer architecture"
      ],
      "metadata": {
        "id": "8xgWI3gWVQqK"
      }
    },
    {
      "cell_type": "code",
      "source": [
        "pip install keras-transformer"
      ],
      "metadata": {
        "id": "8BPInsYKU6AG",
        "colab": {
          "base_uri": "https://localhost:8080/"
        },
        "outputId": "eeb1a30f-0738-4c95-93f6-575252c4947c"
      },
      "execution_count": null,
      "outputs": [
        {
          "output_type": "stream",
          "name": "stdout",
          "text": [
            "Collecting keras-transformer\n",
            "  Downloading keras-transformer-0.40.0.tar.gz (9.7 kB)\n",
            "  Preparing metadata (setup.py) ... \u001b[?25l\u001b[?25hdone\n",
            "Collecting keras-pos-embd==0.13.0 (from keras-transformer)\n",
            "  Downloading keras-pos-embd-0.13.0.tar.gz (5.6 kB)\n",
            "  Preparing metadata (setup.py) ... \u001b[?25l\u001b[?25hdone\n",
            "Collecting keras-multi-head==0.29.0 (from keras-transformer)\n",
            "  Downloading keras-multi-head-0.29.0.tar.gz (13 kB)\n",
            "  Preparing metadata (setup.py) ... \u001b[?25l\u001b[?25hdone\n",
            "Collecting keras-layer-normalization==0.16.0 (from keras-transformer)\n",
            "  Downloading keras-layer-normalization-0.16.0.tar.gz (3.9 kB)\n",
            "  Preparing metadata (setup.py) ... \u001b[?25l\u001b[?25hdone\n",
            "Collecting keras-position-wise-feed-forward==0.8.0 (from keras-transformer)\n",
            "  Downloading keras-position-wise-feed-forward-0.8.0.tar.gz (4.1 kB)\n",
            "  Preparing metadata (setup.py) ... \u001b[?25l\u001b[?25hdone\n",
            "Collecting keras-embed-sim==0.10.0 (from keras-transformer)\n",
            "  Downloading keras-embed-sim-0.10.0.tar.gz (3.6 kB)\n",
            "  Preparing metadata (setup.py) ... \u001b[?25l\u001b[?25hdone\n",
            "Requirement already satisfied: numpy in /usr/local/lib/python3.10/dist-packages (from keras-embed-sim==0.10.0->keras-transformer) (1.25.2)\n",
            "Collecting keras-self-attention==0.51.0 (from keras-multi-head==0.29.0->keras-transformer)\n",
            "  Downloading keras-self-attention-0.51.0.tar.gz (11 kB)\n",
            "  Preparing metadata (setup.py) ... \u001b[?25l\u001b[?25hdone\n",
            "Building wheels for collected packages: keras-transformer, keras-embed-sim, keras-layer-normalization, keras-multi-head, keras-pos-embd, keras-position-wise-feed-forward, keras-self-attention\n",
            "  Building wheel for keras-transformer (setup.py) ... \u001b[?25l\u001b[?25hdone\n",
            "  Created wheel for keras-transformer: filename=keras_transformer-0.40.0-py3-none-any.whl size=12286 sha256=29361b80b78c787e1c18e635f579d7139891ce05f44d7fcf7daa6aea7f9e9e19\n",
            "  Stored in directory: /root/.cache/pip/wheels/f2/cb/22/75a0ad376129177f7c95c0d91331a18f5368fd657f4035ba7c\n",
            "  Building wheel for keras-embed-sim (setup.py) ... \u001b[?25l\u001b[?25hdone\n",
            "  Created wheel for keras-embed-sim: filename=keras_embed_sim-0.10.0-py3-none-any.whl size=3944 sha256=5d8db358ef51ea973f539d0aab5b1815d342fd8e5435a8349e0ec7f3a22465fd\n",
            "  Stored in directory: /root/.cache/pip/wheels/82/32/c7/fd35d0d1b840a6c7cbd4343f808d10d0f7b87d271a4dbe796f\n",
            "  Building wheel for keras-layer-normalization (setup.py) ... \u001b[?25l\u001b[?25hdone\n",
            "  Created wheel for keras-layer-normalization: filename=keras_layer_normalization-0.16.0-py3-none-any.whl size=4654 sha256=f385be80888040fb7f663539648e5fd780413d431579f414179eca2d88528243\n",
            "  Stored in directory: /root/.cache/pip/wheels/ed/3a/4b/21db23c0cc56c4b219616e181f258eb7c57d36cc5d056fae9a\n",
            "  Building wheel for keras-multi-head (setup.py) ... \u001b[?25l\u001b[?25hdone\n",
            "  Created wheel for keras-multi-head: filename=keras_multi_head-0.29.0-py3-none-any.whl size=14976 sha256=6e74bd7eb27c59fdc4075d439b8ac6ca6f87f71a4d4871452a47c92b26021604\n",
            "  Stored in directory: /root/.cache/pip/wheels/cb/23/4b/06d7ae21714f70fcc25b48f972cc8e5e7f4b6b764a038b509d\n",
            "  Building wheel for keras-pos-embd (setup.py) ... \u001b[?25l\u001b[?25hdone\n",
            "  Created wheel for keras-pos-embd: filename=keras_pos_embd-0.13.0-py3-none-any.whl size=6945 sha256=bec1e75a6e097b83d2b31ad23eceac10a6f9f0fd9d9b04a912e3999d76c36c8e\n",
            "  Stored in directory: /root/.cache/pip/wheels/78/07/1b/b1ca47b6ac338554b75c8f52c54e6a2bfbe1b07d79579979a4\n",
            "  Building wheel for keras-position-wise-feed-forward (setup.py) ... \u001b[?25l\u001b[?25hdone\n",
            "  Created wheel for keras-position-wise-feed-forward: filename=keras_position_wise_feed_forward-0.8.0-py3-none-any.whl size=4969 sha256=813eb9e0286d98ec6affe1065e90e555abfe57786265c27c8c78e2f6fc689bee\n",
            "  Stored in directory: /root/.cache/pip/wheels/c1/6a/04/d1706a53b23b2cb5f9a0a76269bf87925daa1bca09eac01b21\n",
            "  Building wheel for keras-self-attention (setup.py) ... \u001b[?25l\u001b[?25hdone\n",
            "  Created wheel for keras-self-attention: filename=keras_self_attention-0.51.0-py3-none-any.whl size=18894 sha256=1e3e550f3b56cd1cffecec1134858947bba3d7c2f14a9580947dccefad6130a5\n",
            "  Stored in directory: /root/.cache/pip/wheels/b8/f7/24/607b483144fb9c47b4ba2c5fba6b68e54aeee2d5bf6c05302e\n",
            "Successfully built keras-transformer keras-embed-sim keras-layer-normalization keras-multi-head keras-pos-embd keras-position-wise-feed-forward keras-self-attention\n",
            "Installing collected packages: keras-self-attention, keras-position-wise-feed-forward, keras-pos-embd, keras-layer-normalization, keras-embed-sim, keras-multi-head, keras-transformer\n",
            "Successfully installed keras-embed-sim-0.10.0 keras-layer-normalization-0.16.0 keras-multi-head-0.29.0 keras-pos-embd-0.13.0 keras-position-wise-feed-forward-0.8.0 keras-self-attention-0.51.0 keras-transformer-0.40.0\n"
          ]
        }
      ]
    },
    {
      "cell_type": "code",
      "source": [
        "import pandas as pd\n",
        "import numpy as np\n",
        "from sklearn.model_selection import train_test_split\n",
        "from sklearn.preprocessing import LabelEncoder\n",
        "from tensorflow.keras.models import Sequential\n",
        "from tensorflow.keras.layers import Embedding, Conv1D, GlobalMaxPooling1D, Dense"
      ],
      "metadata": {
        "id": "qLgAbbXoJXrz"
      },
      "execution_count": null,
      "outputs": []
    },
    {
      "cell_type": "code",
      "source": [
        "import opendatasets as od\n",
        "\n",
        "# need username and key from kaggle api to download\n",
        "od.download(\n",
        "    \"https://www.kaggle.com/datasets/lonnieqin/englishspanish-translation-dataset\")"
      ],
      "metadata": {
        "id": "VekjOUKlJYmC",
        "colab": {
          "base_uri": "https://localhost:8080/"
        },
        "outputId": "6cf9ab42-821e-404d-de3f-6dac3973fcc7"
      },
      "execution_count": null,
      "outputs": [
        {
          "output_type": "stream",
          "name": "stdout",
          "text": [
            "Please provide your Kaggle credentials to download this dataset. Learn more: http://bit.ly/kaggle-creds\n",
            "Your Kaggle username: thomascholak\n",
            "Your Kaggle Key: ··········\n",
            "Downloading englishspanish-translation-dataset.zip to ./englishspanish-translation-dataset\n"
          ]
        },
        {
          "output_type": "stream",
          "name": "stderr",
          "text": [
            "100%|██████████| 2.72M/2.72M [00:00<00:00, 158MB/s]"
          ]
        },
        {
          "output_type": "stream",
          "name": "stdout",
          "text": [
            "\n"
          ]
        },
        {
          "output_type": "stream",
          "name": "stderr",
          "text": [
            "\n"
          ]
        }
      ]
    },
    {
      "cell_type": "markdown",
      "source": [
        "First we download the dataset from Kaggle"
      ],
      "metadata": {
        "id": "eTqJDhVJ7Dsg"
      }
    },
    {
      "cell_type": "code",
      "source": [
        "csv_file_path = \"./englishspanish-translation-dataset/data.csv\"\n",
        "\n",
        "data = pd.read_csv(csv_file_path)\n",
        "print(\"English to Spanish Dataset:\\n\\n\", data.head())"
      ],
      "metadata": {
        "id": "Y7gUl7SkJcC8",
        "colab": {
          "base_uri": "https://localhost:8080/"
        },
        "outputId": "fab659e9-e821-4699-83d9-a5015c5658e8"
      },
      "execution_count": null,
      "outputs": [
        {
          "output_type": "stream",
          "name": "stdout",
          "text": [
            "English to Spanish Dataset:\n",
            "\n",
            "   english  spanish\n",
            "0     Go.      Ve.\n",
            "1     Go.    Vete.\n",
            "2     Go.    Vaya.\n",
            "3     Go.  Váyase.\n",
            "4     Hi.    Hola.\n"
          ]
        }
      ]
    },
    {
      "cell_type": "markdown",
      "source": [
        "Then we effectively scramble the data:"
      ],
      "metadata": {
        "id": "p4S0cy857eyM"
      }
    },
    {
      "cell_type": "code",
      "source": [
        "np.random.seed(56)  # random seed to ensure runs are same -> (can turn off)\n",
        "\n",
        "# scrambles the data\n",
        "shuffled_data = data.sample(frac=1).reset_index(drop=True)\n",
        "\n",
        "# we add '[start]' and '[end]' tokens to the Spanish text\n",
        "shuffled_data['spanish'] = \"[start] \" + shuffled_data['spanish'] + \" [end]\"\n",
        "\n",
        "# then we add pair the sentences together\n",
        "text_pairs = list(zip(shuffled_data['english'], shuffled_data['spanish']))\n",
        "\n",
        "print(\"First five text-pairs:\\n\", (text_pairs[:5]))"
      ],
      "metadata": {
        "id": "xzCDDvbsRRWx",
        "colab": {
          "base_uri": "https://localhost:8080/"
        },
        "outputId": "da819ca1-7a8f-4c11-ec74-60e95718595f"
      },
      "execution_count": null,
      "outputs": [
        {
          "output_type": "stream",
          "name": "stdout",
          "text": [
            "First five text-pairs:\n",
            " [(\"We're investigating the murder of Tom Jackson.\", '[start] Estamos investigando el asesinato de Tom Jackson. [end]'), (\"Who knows what we'll find up in the attic?\", '[start] ¿Quién sabe qué encontraremos en el ático? [end]'), (\"I'm staying with Tom.\", '[start] Me quedo con Tom. [end]'), ('I want to eat a mango.', '[start] Quiero comer un mango. [end]'), (\"I'll show you around the town.\", '[start] Te enseñaré la ciudad. [end]')]\n"
          ]
        }
      ]
    },
    {
      "cell_type": "markdown",
      "source": [
        "Break into training, validation, and testing sets"
      ],
      "metadata": {
        "id": "rCgiG6tgEzTO"
      }
    },
    {
      "cell_type": "code",
      "source": [
        "from sklearn.model_selection import train_test_split  # used to create our sets"
      ],
      "metadata": {
        "id": "HoEiu_yC5reB"
      },
      "execution_count": null,
      "outputs": []
    },
    {
      "cell_type": "code",
      "source": [
        "train_pairs, rest_pairs = train_test_split(text_pairs, test_size=35688, random_state=56)\n",
        "validation_pairs, test_pairs = train_test_split(rest_pairs, test_size=17844, random_state=76)\n",
        "\n",
        "print(\"Training pairs:\", len(train_pairs))\n",
        "print(\"Validation pairs:\", len(validation_pairs)) # 'val' and 'test' same size\n",
        "print(\"Test pairs:\", len(test_pairs))"
      ],
      "metadata": {
        "id": "QHnhEC9qEqiP",
        "colab": {
          "base_uri": "https://localhost:8080/"
        },
        "outputId": "35f3a5bb-8d63-433a-d42f-581f2088d066"
      },
      "execution_count": null,
      "outputs": [
        {
          "output_type": "stream",
          "name": "stdout",
          "text": [
            "Training pairs: 83276\n",
            "Validation pairs: 17844\n",
            "Test pairs: 17844\n"
          ]
        }
      ]
    },
    {
      "cell_type": "markdown",
      "source": [
        "Next we vectorize all of the data from the English and Spanish dataset pairs.\n",
        "\n",
        "Adapted the below code block from ->\n",
        "[Deep Learning with Python, Second Edition](https://www.manning.com/books/deep-learning-with-python-second-edition)\n",
        "(Chapter 11)."
      ],
      "metadata": {
        "id": "yVdL6-UZMFWq"
      }
    },
    {
      "cell_type": "code",
      "source": [
        "import re\n",
        "import string\n",
        "import tensorflow as tf\n",
        "from tensorflow.keras.layers import TextVectorization"
      ],
      "metadata": {
        "id": "ipoJgF52FAU-"
      },
      "execution_count": null,
      "outputs": []
    },
    {
      "cell_type": "code",
      "source": [
        "# want to remove \"¡\" and \"¿\" characters\n",
        "strip_chars = string.punctuation + \"¿\"\n",
        "strip_chars = string.punctuation + \"¡\"\n",
        "\n",
        "# preserves brackets while stripping all other punctuation\n",
        "strip_chars = strip_chars.replace(\"[\", \"\")\n",
        "strip_chars = strip_chars.replace(\"]\", \"\")\n",
        "\n",
        "vocab_size = 15000     # max allowed words in each language\n",
        "sequence_length = 20   # max words allowed per sentence\n",
        "\n",
        "def custom_standardization(string_tensor):\n",
        "  lowercase_string = tf.strings.lower(string_tensor)\n",
        "  return tf.strings.regex_replace(\n",
        "    lowercase_string, f\"[{re.escape(string.punctuation)}]\", \"\")\n",
        "\n",
        "# splits strings with the whitespace\n",
        "def custom_split(string_tensor):\n",
        "  return tf.strings.split(string_tensor)\n",
        "\n",
        "english_vectorization = TextVectorization(  # source language\n",
        "  output_mode=\"int\",\n",
        "  standardize=custom_standardization,\n",
        "  output_sequence_length=sequence_length,\n",
        "  split=custom_split,\n",
        "  max_tokens=vocab_size,\n",
        ")\n",
        "\n",
        "spanish_vectorization = TextVectorization(  # target language\n",
        "  output_mode=\"int\",\n",
        "  standardize=custom_standardization,\n",
        "  output_sequence_length=sequence_length + 1,\n",
        "  split=custom_split,\n",
        "  max_tokens=vocab_size,\n",
        ")\n",
        "\n",
        "train_eng_texts = [pair[0] for pair in train_pairs]  # left  -> english\n",
        "train_spa_texts = [pair[1] for pair in train_pairs]  # right -> spanish\n",
        "\n",
        "english_vectorization.adapt(train_eng_texts)\n",
        "spanish_vectorization.adapt(train_spa_texts)"
      ],
      "metadata": {
        "id": "_HCqnvSKIzGM"
      },
      "execution_count": null,
      "outputs": []
    },
    {
      "cell_type": "markdown",
      "source": [
        "Added some extra padding to the vectorized sequences in below block:"
      ],
      "metadata": {
        "id": "mr6oDYumSmvM"
      }
    },
    {
      "cell_type": "code",
      "source": [
        "from keras.preprocessing.sequence import pad_sequences\n",
        "from keras_transformer import get_model\n",
        "import tensorflow as tf\n",
        "import tensorflow.data as tf_data\n",
        "import tensorflow.strings as tf_strings"
      ],
      "metadata": {
        "id": "y2GNPCSNV7eW"
      },
      "execution_count": null,
      "outputs": []
    },
    {
      "cell_type": "code",
      "source": [
        "def format_dataset(eng, spa):\n",
        "    eng = english_vectorization(eng)\n",
        "    spa = spanish_vectorization(spa)\n",
        "    return (\n",
        "        {\n",
        "            \"encoder_inputs\": eng,\n",
        "            \"decoder_inputs\": spa[:, :-1],\n",
        "        },\n",
        "        spa[:, 1:],\n",
        "    )\n",
        "\n",
        "def make_dataset(pairs):\n",
        "    eng_texts, spa_texts = zip(*pairs)\n",
        "    eng_texts = list(eng_texts)\n",
        "    spa_texts = list(spa_texts)\n",
        "    dataset = tf_data.Dataset.from_tensor_slices((eng_texts, spa_texts))\n",
        "    dataset = dataset.batch(64)\n",
        "    dataset = dataset.map(format_dataset)\n",
        "    return dataset.cache().shuffle(2048).prefetch(16)\n",
        "\n",
        "train_ds = make_dataset(train_pairs)\n",
        "val_ds = make_dataset(validation_pairs)\n",
        "\n",
        "for inputs, targets in train_ds.take(1):\n",
        "    print(f'inputs[\"encoder_inputs\"].shape: {inputs[\"encoder_inputs\"].shape}')\n",
        "    print(f'inputs[\"decoder_inputs\"].shape: {inputs[\"decoder_inputs\"].shape}')\n",
        "    print(f\"targets.shape: {targets.shape}\")"
      ],
      "metadata": {
        "id": "oVxHLdC0RijS",
        "colab": {
          "base_uri": "https://localhost:8080/"
        },
        "outputId": "237a3048-82c4-4d3b-bcf9-81d27542327e"
      },
      "execution_count": null,
      "outputs": [
        {
          "output_type": "stream",
          "name": "stdout",
          "text": [
            "inputs[\"encoder_inputs\"].shape: (64, 20)\n",
            "inputs[\"decoder_inputs\"].shape: (64, 20)\n",
            "targets.shape: (64, 20)\n"
          ]
        }
      ]
    },
    {
      "cell_type": "code",
      "source": [
        "for batch in train_ds.take(1):\n",
        "    print(batch)"
      ],
      "metadata": {
        "id": "g6e_Am1NVKr9",
        "colab": {
          "base_uri": "https://localhost:8080/"
        },
        "outputId": "addb81ef-d36e-4d3f-a46e-03310fe30573"
      },
      "execution_count": null,
      "outputs": [
        {
          "output_type": "stream",
          "name": "stdout",
          "text": [
            "({'encoder_inputs': <tf.Tensor: shape=(64, 20), dtype=int64, numpy=\n",
            "array([[  19,  333,   23, ...,    0,    0,    0],\n",
            "       [  24,   96,    3, ...,    0,    0,    0],\n",
            "       [   9,    8,    7, ...,    0,    0,    0],\n",
            "       ...,\n",
            "       [ 291,  672,    0, ...,    0,    0,    0],\n",
            "       [  10, 5452,   20, ..., 1980,    0,    0],\n",
            "       [   9,    8,  853, ...,    0,    0,    0]])>, 'decoder_inputs': <tf.Tensor: shape=(64, 20), dtype=int64, numpy=\n",
            "array([[   2,   62,   11, ...,    0,    0,    0],\n",
            "       [   2,   54, 1175, ...,    0,    0,    0],\n",
            "       [   2,   20,   12, ...,    0,    0,    0],\n",
            "       ...,\n",
            "       [   2,   76,   61, ...,    0,    0,    0],\n",
            "       [   2,   52, 8015, ...,   10, 1342,    4],\n",
            "       [   2,   23,  667, ...,    0,    0,    0]])>}, <tf.Tensor: shape=(64, 20), dtype=int64, numpy=\n",
            "array([[  62,   11,   22, ...,    0,    0,    0],\n",
            "       [  54, 1175,   34, ...,    0,    0,    0],\n",
            "       [  20,   12,   13, ...,    0,    0,    0],\n",
            "       ...,\n",
            "       [  76,   61,  859, ...,    0,    0,    0],\n",
            "       [  52, 8015,   28, ..., 1342,    4,  265],\n",
            "       [  23,  667,   18, ...,    0,    0,    0]])>)\n"
          ]
        }
      ]
    },
    {
      "cell_type": "code",
      "source": [
        "import tensorflow as tf\n",
        "from tensorflow.keras.models import Sequential, Model\n",
        "from tensorflow.keras.layers import Input, Embedding, LSTM, Dense, Concatenate, Add\n",
        "from tensorflow.keras.preprocessing.sequence import pad_sequences\n",
        "from tensorflow import keras\n",
        "from tensorflow.keras import layers\n",
        "from keras.layers import Layer"
      ],
      "metadata": {
        "id": "BtSq3SAQhFA7"
      },
      "execution_count": null,
      "outputs": []
    },
    {
      "cell_type": "markdown",
      "source": [
        "Below functions integrated from the textbook:  https://colab.research.google.com/github/keras-team/keras-io/blob/master/examples/nlp/ipynb/neural_machine_translation_with_transformer.ipynb#scrollTo=noLdhrR_8WO4"
      ],
      "metadata": {
        "id": "IcCdS2fNqJme"
      }
    },
    {
      "cell_type": "code",
      "source": [
        "embed_dim = 256\n",
        "latent_dim = 256\n",
        "num_heads = 4\n",
        "\n",
        "class PositionalEmbedding(layers.Layer):\n",
        "    def __init__(self, sequence_length, vocab_size, embed_dim, **kwargs):\n",
        "        super(PositionalEmbedding, self).__init__(**kwargs)\n",
        "        self.token_embeddings = layers.Embedding(\n",
        "            input_dim=vocab_size,\n",
        "            output_dim=embed_dim,\n",
        "            mask_zero=True\n",
        "        )\n",
        "        self.position_embeddings = layers.Embedding(\n",
        "            input_dim=sequence_length,\n",
        "            output_dim=embed_dim,\n",
        "            mask_zero=True\n",
        "        )\n",
        "        self.sequence_length = sequence_length\n",
        "        self.vocab_size = vocab_size\n",
        "        self.embed_dim = embed_dim\n",
        "\n",
        "    def call(self, inputs):\n",
        "        length = tf.shape(inputs)[-1]\n",
        "        positions = tf.range(start=0, limit=length, delta=1)\n",
        "        embedded_tokens = self.token_embeddings(inputs)\n",
        "        embedded_positions = self.position_embeddings(positions)\n",
        "        return embedded_tokens + embedded_positions\n",
        "\n",
        "    def compute_mask(self, inputs, mask=None):\n",
        "        return tf.math.not_equal(inputs, 0)\n",
        "\n",
        "class TransformerEncoder(layers.Layer):\n",
        "    def __init__(self, embed_dim, num_heads, ff_dim, rate=0.1, **kwargs):\n",
        "        super(TransformerEncoder, self).__init__(**kwargs)\n",
        "        self.att = keras.layers.MultiHeadAttention(\n",
        "            num_heads=num_heads, key_dim=embed_dim\n",
        "        )\n",
        "        self.ffn = keras.Sequential(\n",
        "            [\n",
        "                keras.layers.Dense(ff_dim, activation=\"relu\"),\n",
        "                keras.layers.Dense(embed_dim),\n",
        "            ]\n",
        "        )\n",
        "        self.layernorm1 = keras.layers.LayerNormalization(epsilon=1e-6)\n",
        "        self.layernorm2 = keras.layers.LayerNormalization(epsilon=1e-6)\n",
        "        self.dropout1 = keras.layers.Dropout(rate)\n",
        "        self.dropout2 = keras.layers.Dropout(rate)\n",
        "\n",
        "    def call(self, inputs, training=False):\n",
        "        attn_output = self.att(inputs, inputs)\n",
        "        attn_output = self.dropout1(attn_output, training=training)\n",
        "        out1 = self.layernorm1(inputs + attn_output)\n",
        "        ffn_output = self.ffn(out1)\n",
        "        ffn_output = self.dropout2(ffn_output, training=training)\n",
        "        return self.layernorm2(out1 + ffn_output)\n",
        "\n",
        "class TransformerDecoder(layers.Layer):\n",
        "    def __init__(self, embed_dim, latent_dim, num_heads, **kwargs):\n",
        "        super(TransformerDecoder, self).__init__(**kwargs)\n",
        "        self.embed_dim = embed_dim\n",
        "        self.latent_dim = latent_dim\n",
        "        self.num_heads = num_heads\n",
        "        self.attention_1 = layers.MultiHeadAttention(\n",
        "            num_heads=num_heads,\n",
        "            key_dim=embed_dim\n",
        "        )\n",
        "        self.attention_2 = layers.MultiHeadAttention(\n",
        "            num_heads=num_heads,\n",
        "            key_dim=embed_dim\n",
        "        )\n",
        "        self.dense_proj = keras.Sequential([\n",
        "            layers.Dense(latent_dim, activation=\"relu\"),\n",
        "            layers.Dense(embed_dim),\n",
        "        ])\n",
        "        self.layernorm_1 = layers.LayerNormalization()\n",
        "        self.layernorm_2 = layers.LayerNormalization()\n",
        "        self.layernorm_3 = layers.LayerNormalization()\n",
        "        self.supports_masking = True\n",
        "\n",
        "    def call(self, inputs, encoder_outputs, mask = None):\n",
        "        causal_mask = self.get_causal_attention_mask(inputs)\n",
        "        if mask != None:\n",
        "            padding_mask = tf.cast(mask[:, tf.newaxis, :], dtype=\"int32\")\n",
        "            padding_mask = tf.minimum(padding_mask, causal_mask)\n",
        "        attention_output_1 = self.attention_1(\n",
        "            query=inputs,\n",
        "            value=inputs,\n",
        "            key=inputs,\n",
        "            attention_mask=causal_mask\n",
        "        )\n",
        "\n",
        "        out_1 = self.layernorm_1(inputs + attention_output_1)\n",
        "\n",
        "        attention_output_2 = self.attention_2(\n",
        "            query=out_1,\n",
        "            value=encoder_outputs,\n",
        "            key=encoder_outputs,\n",
        "            attention_mask=padding_mask\n",
        "        )\n",
        "\n",
        "        out_2 = self.layernorm_2(out_1 + attention_output_2)\n",
        "\n",
        "        proj_output = self.dense_proj(out_2)\n",
        "        out = self.layernorm_3(out_2 + proj_output)\n",
        "\n",
        "        return out\n",
        "\n",
        "    def get_causal_attention_mask(self, inputs):\n",
        "        input_shape = tf.shape(inputs)\n",
        "        batch_size, sequence_length = input_shape[0], input_shape[1]\n",
        "        i = tf.range(sequence_length)[:, tf.newaxis]\n",
        "        j = tf.range(sequence_length)\n",
        "        mask = tf.cast(i >= j, dtype=\"int32\")\n",
        "        mask = tf.reshape(mask, (1, input_shape[1], input_shape[1]))\n",
        "        mult = tf.concat(\n",
        "            [tf.expand_dims(batch_size, -1), tf.constant([1, 1], dtype=tf.int32)],\n",
        "            axis=0\n",
        "        )\n",
        "        return tf.tile(mask, mult)\n",
        "\n",
        "encoder_inputs = keras.Input(shape=(None,), dtype=\"int64\", name=\"encoder_inputs\")\n",
        "x = PositionalEmbedding(sequence_length, vocab_size, embed_dim)(encoder_inputs)\n",
        "encoder_outputs = TransformerEncoder(embed_dim, num_heads, latent_dim)(x)\n",
        "encoder = keras.Model(encoder_inputs, encoder_outputs)\n",
        "\n",
        "decoder_inputs = keras.Input(shape=(None,), dtype=\"int64\", name=\"decoder_inputs\")\n",
        "encoded_seq_inputs = keras.Input(shape=(None, embed_dim), name=\"decoder_state_inputs\")\n",
        "x = PositionalEmbedding(sequence_length, vocab_size, embed_dim)(decoder_inputs)\n",
        "x = TransformerDecoder(embed_dim, latent_dim, num_heads)(x, encoded_seq_inputs)\n",
        "x = layers.Dropout(0.5)(x)\n",
        "decoder_outputs = layers.Dense(vocab_size, activation=\"softmax\")(x)\n",
        "decoder = keras.Model([decoder_inputs, encoded_seq_inputs], decoder_outputs)\n",
        "\n",
        "decoder_outputs = decoder([decoder_inputs, encoder_outputs])\n",
        "transformer = keras.Model(\n",
        "    [encoder_inputs, decoder_inputs], decoder_outputs, name=\"transformer\"\n",
        ")"
      ],
      "metadata": {
        "id": "gdKvxyUcia8N"
      },
      "execution_count": null,
      "outputs": []
    },
    {
      "cell_type": "code",
      "source": [
        "transformer.summary()"
      ],
      "metadata": {
        "colab": {
          "base_uri": "https://localhost:8080/"
        },
        "id": "Pt9jMdAGjjK1",
        "outputId": "fc181869-5e5d-48fc-f708-f9127b54ea4c"
      },
      "execution_count": null,
      "outputs": [
        {
          "output_type": "stream",
          "name": "stdout",
          "text": [
            "Model: \"transformer\"\n",
            "__________________________________________________________________________________________________\n",
            " Layer (type)                Output Shape                 Param #   Connected to                  \n",
            "==================================================================================================\n",
            " encoder_inputs (InputLayer  [(None, None)]               0         []                            \n",
            " )                                                                                                \n",
            "                                                                                                  \n",
            " positional_embedding (Posi  (None, None, 256)            3845120   ['encoder_inputs[0][0]']      \n",
            " tionalEmbedding)                                                                                 \n",
            "                                                                                                  \n",
            " decoder_inputs (InputLayer  [(None, None)]               0         []                            \n",
            " )                                                                                                \n",
            "                                                                                                  \n",
            " transformer_encoder (Trans  (None, None, 256)            1184512   ['positional_embedding[0][0]']\n",
            " formerEncoder)                                                                                   \n",
            "                                                                                                  \n",
            " model_1 (Functional)        (None, None, 15000)          9937048   ['decoder_inputs[0][0]',      \n",
            "                                                                     'transformer_encoder[0][0]'] \n",
            "                                                                                                  \n",
            "==================================================================================================\n",
            "Total params: 14966680 (57.09 MB)\n",
            "Trainable params: 14966680 (57.09 MB)\n",
            "Non-trainable params: 0 (0.00 Byte)\n",
            "__________________________________________________________________________________________________\n"
          ]
        }
      ]
    },
    {
      "cell_type": "code",
      "source": [
        "from tensorflow import keras\n",
        "\n",
        "keras.utils.plot_model(transformer, show_shapes=True)"
      ],
      "metadata": {
        "id": "wXkpd-nSZXVb",
        "colab": {
          "base_uri": "https://localhost:8080/",
          "height": 422
        },
        "outputId": "74279e2b-add3-4a87-da3c-733415b0520b"
      },
      "execution_count": null,
      "outputs": [
        {
          "output_type": "execute_result",
          "data": {
            "image/png": "[encoded data removed]",
            "text/plain": [
              "<IPython.core.display.Image object>"
            ]
          },
          "metadata": {},
          "execution_count": 18
        }
      ]
    },
    {
      "cell_type": "code",
      "source": [
        "transformer.compile(\n",
        "        \"adam\", loss=\"sparse_categorical_crossentropy\", metrics=[\"accuracy\"]\n",
        "    )"
      ],
      "metadata": {
        "id": "tTqk-0M9jeYg"
      },
      "execution_count": null,
      "outputs": []
    },
    {
      "cell_type": "code",
      "source": [
        "# training the model\n",
        "transformer.fit(train_ds, epochs=30, batch_size=64, validation_data=val_ds)"
      ],
      "metadata": {
        "id": "jA0XRfQ6KVHk",
        "colab": {
          "base_uri": "https://localhost:8080/"
        },
        "outputId": "a877af78-6fe3-4dbf-d775-0e7fa75b7c01"
      },
      "execution_count": null,
      "outputs": [
        {
          "output_type": "stream",
          "name": "stdout",
          "text": [
            "Epoch 1/30\n",
            "1302/1302 [==============================] - 73s 56ms/step - loss: 2.7923 - accuracy: 0.5481 - val_loss: 2.0779 - val_accuracy: 0.6295\n",
            "Epoch 2/30\n",
            "1302/1302 [==============================] - 70s 54ms/step - loss: 2.0102 - accuracy: 0.6407 - val_loss: 1.7199 - val_accuracy: 0.6744\n",
            "Epoch 3/30\n",
            "1302/1302 [==============================] - 70s 54ms/step - loss: 1.6399 - accuracy: 0.6837 - val_loss: 1.5893 - val_accuracy: 0.6900\n",
            "Epoch 4/30\n",
            "1302/1302 [==============================] - 71s 54ms/step - loss: 1.4139 - accuracy: 0.7117 - val_loss: 1.5491 - val_accuracy: 0.6976\n",
            "Epoch 5/30\n",
            "1302/1302 [==============================] - 70s 53ms/step - loss: 1.2554 - accuracy: 0.7334 - val_loss: 1.4965 - val_accuracy: 0.7093\n",
            "Epoch 6/30\n",
            "1302/1302 [==============================] - 70s 54ms/step - loss: 1.1378 - accuracy: 0.7511 - val_loss: 1.4956 - val_accuracy: 0.7102\n",
            "Epoch 7/30\n",
            "1302/1302 [==============================] - 70s 53ms/step - loss: 1.0484 - accuracy: 0.7646 - val_loss: 1.4732 - val_accuracy: 0.7163\n",
            "Epoch 8/30\n",
            "1302/1302 [==============================] - 70s 54ms/step - loss: 0.9722 - accuracy: 0.7777 - val_loss: 1.4783 - val_accuracy: 0.7170\n",
            "Epoch 9/30\n",
            "1302/1302 [==============================] - 70s 53ms/step - loss: 0.9115 - accuracy: 0.7880 - val_loss: 1.4926 - val_accuracy: 0.7186\n",
            "Epoch 10/30\n",
            "1302/1302 [==============================] - 70s 53ms/step - loss: 0.8610 - accuracy: 0.7973 - val_loss: 1.5252 - val_accuracy: 0.7163\n",
            "Epoch 11/30\n",
            "1302/1302 [==============================] - 70s 53ms/step - loss: 0.8158 - accuracy: 0.8061 - val_loss: 1.5236 - val_accuracy: 0.7184\n",
            "Epoch 12/30\n",
            "1302/1302 [==============================] - 69s 53ms/step - loss: 0.7777 - accuracy: 0.8132 - val_loss: 1.5277 - val_accuracy: 0.7217\n",
            "Epoch 13/30\n",
            "1302/1302 [==============================] - 72s 55ms/step - loss: 0.7391 - accuracy: 0.8211 - val_loss: 1.5519 - val_accuracy: 0.7212\n",
            "Epoch 14/30\n",
            "1302/1302 [==============================] - 69s 53ms/step - loss: 0.7108 - accuracy: 0.8264 - val_loss: 1.5765 - val_accuracy: 0.7217\n",
            "Epoch 15/30\n",
            "1302/1302 [==============================] - 70s 54ms/step - loss: 0.6840 - accuracy: 0.8321 - val_loss: 1.6029 - val_accuracy: 0.7208\n",
            "Epoch 16/30\n",
            "1302/1302 [==============================] - 69s 53ms/step - loss: 0.6586 - accuracy: 0.8365 - val_loss: 1.6136 - val_accuracy: 0.7212\n",
            "Epoch 17/30\n",
            "1302/1302 [==============================] - 70s 54ms/step - loss: 0.6348 - accuracy: 0.8416 - val_loss: 1.6410 - val_accuracy: 0.7215\n",
            "Epoch 18/30\n",
            "1302/1302 [==============================] - 69s 53ms/step - loss: 0.6135 - accuracy: 0.8460 - val_loss: 1.6521 - val_accuracy: 0.7204\n",
            "Epoch 19/30\n",
            "1302/1302 [==============================] - 70s 54ms/step - loss: 0.5951 - accuracy: 0.8501 - val_loss: 1.6850 - val_accuracy: 0.7195\n",
            "Epoch 20/30\n",
            "1302/1302 [==============================] - 70s 54ms/step - loss: 0.5750 - accuracy: 0.8541 - val_loss: 1.6916 - val_accuracy: 0.7200\n",
            "Epoch 21/30\n",
            "1302/1302 [==============================] - 72s 55ms/step - loss: 0.5613 - accuracy: 0.8576 - val_loss: 1.7077 - val_accuracy: 0.7205\n",
            "Epoch 22/30\n",
            "1302/1302 [==============================] - 72s 55ms/step - loss: 0.5433 - accuracy: 0.8616 - val_loss: 1.7384 - val_accuracy: 0.7199\n",
            "Epoch 23/30\n",
            "1302/1302 [==============================] - 70s 53ms/step - loss: 0.5304 - accuracy: 0.8639 - val_loss: 1.7382 - val_accuracy: 0.7182\n",
            "Epoch 24/30\n",
            "1302/1302 [==============================] - 69s 53ms/step - loss: 0.5178 - accuracy: 0.8669 - val_loss: 1.7981 - val_accuracy: 0.7188\n",
            "Epoch 25/30\n",
            "1302/1302 [==============================] - 70s 54ms/step - loss: 0.5039 - accuracy: 0.8699 - val_loss: 1.7611 - val_accuracy: 0.7161\n",
            "Epoch 26/30\n",
            "1302/1302 [==============================] - 70s 54ms/step - loss: 0.4923 - accuracy: 0.8728 - val_loss: 1.8063 - val_accuracy: 0.7162\n",
            "Epoch 27/30\n",
            "1302/1302 [==============================] - 70s 54ms/step - loss: 0.4822 - accuracy: 0.8753 - val_loss: 1.8180 - val_accuracy: 0.7191\n",
            "Epoch 28/30\n",
            "1302/1302 [==============================] - 69s 53ms/step - loss: 0.4706 - accuracy: 0.8776 - val_loss: 1.8152 - val_accuracy: 0.7190\n",
            "Epoch 29/30\n",
            "1302/1302 [==============================] - 70s 54ms/step - loss: 0.4596 - accuracy: 0.8801 - val_loss: 1.8263 - val_accuracy: 0.7175\n",
            "Epoch 30/30\n",
            "1302/1302 [==============================] - 70s 54ms/step - loss: 0.4521 - accuracy: 0.8817 - val_loss: 1.8724 - val_accuracy: 0.7182\n"
          ]
        },
        {
          "output_type": "execute_result",
          "data": {
            "text/plain": [
              "<keras.src.callbacks.History at 0x7f541c50d5a0>"
            ]
          },
          "metadata": {},
          "execution_count": 21
        }
      ]
    },
    {
      "cell_type": "code",
      "source": [
        "transformer.save_weights(\"transformer_weights.h5\")"
      ],
      "metadata": {
        "id": "ckxIXcAgl2o2"
      },
      "execution_count": null,
      "outputs": []
    },
    {
      "cell_type": "code",
      "source": [
        "from google.colab import files\n",
        "\n",
        "uploaded = files.upload()"
      ],
      "metadata": {
        "colab": {
          "base_uri": "https://localhost:8080/",
          "height": 73
        },
        "id": "v0ePPNWkutgh",
        "outputId": "e4a13781-c705-45aa-d102-176286d1efdd"
      },
      "execution_count": null,
      "outputs": [
        {
          "output_type": "display_data",
          "data": {
            "text/plain": [
              "<IPython.core.display.HTML object>"
            ],
            "text/html": [
              "\n",
              "     <input type=\"file\" id=\"files-73dfea32-25dc-4ede-b6fc-a651db86f39f\" name=\"files[]\" multiple disabled\n",
              "        style=\"border:none\" />\n",
              "     <output id=\"result-73dfea32-25dc-4ede-b6fc-a651db86f39f\">\n",
              "      Upload widget is only available when the cell has been executed in the\n",
              "      current browser session. Please rerun this cell to enable.\n",
              "      </output>\n",
              "      <script>// Copyright 2017 Google LLC\n",
              "//\n",
              "// Licensed under the Apache License, Version 2.0 (the \"License\");\n",
              "// you may not use this file except in compliance with the License.\n",
              "// You may obtain a copy of the License at\n",
              "//\n",
              "//      http://www.apache.org/licenses/LICENSE-2.0\n",
              "//\n",
              "// Unless required by applicable law or agreed to in writing, software\n",
              "// distributed under the License is distributed on an \"AS IS\" BASIS,\n",
              "// WITHOUT WARRANTIES OR CONDITIONS OF ANY KIND, either express or implied.\n",
              "// See the License for the specific language governing permissions and\n",
              "// limitations under the License.\n",
              "\n",
              "/**\n",
              " * @fileoverview Helpers for google.colab Python module.\n",
              " */\n",
              "(function(scope) {\n",
              "function span(text, styleAttributes = {}) {\n",
              "  const element = document.createElement('span');\n",
              "  element.textContent = text;\n",
              "  for (const key of Object.keys(styleAttributes)) {\n",
              "    element.style[key] = styleAttributes[key];\n",
              "  }\n",
              "  return element;\n",
              "}\n",
              "\n",
              "// Max number of bytes which will be uploaded at a time.\n",
              "const MAX_PAYLOAD_SIZE = 100 * 1024;\n",
              "\n",
              "function _uploadFiles(inputId, outputId) {\n",
              "  const steps = uploadFilesStep(inputId, outputId);\n",
              "  const outputElement = document.getElementById(outputId);\n",
              "  // Cache steps on the outputElement to make it available for the next call\n",
              "  // to uploadFilesContinue from Python.\n",
              "  outputElement.steps = steps;\n",
              "\n",
              "  return _uploadFilesContinue(outputId);\n",
              "}\n",
              "\n",
              "// This is roughly an async generator (not supported in the browser yet),\n",
              "// where there are multiple asynchronous steps and the Python side is going\n",
              "// to poll for completion of each step.\n",
              "// This uses a Promise to block the python side on completion of each step,\n",
              "// then passes the result of the previous step as the input to the next step.\n",
              "function _uploadFilesContinue(outputId) {\n",
              "  const outputElement = document.getElementById(outputId);\n",
              "  const steps = outputElement.steps;\n",
              "\n",
              "  const next = steps.next(outputElement.lastPromiseValue);\n",
              "  return Promise.resolve(next.value.promise).then((value) => {\n",
              "    // Cache the last promise value to make it available to the next\n",
              "    // step of the generator.\n",
              "    outputElement.lastPromiseValue = value;\n",
              "    return next.value.response;\n",
              "  });\n",
              "}\n",
              "\n",
              "/**\n",
              " * Generator function which is called between each async step of the upload\n",
              " * process.\n",
              " * @param {string} inputId Element ID of the input file picker element.\n",
              " * @param {string} outputId Element ID of the output display.\n",
              " * @return {!Iterable<!Object>} Iterable of next steps.\n",
              " */\n",
              "function* uploadFilesStep(inputId, outputId) {\n",
              "  const inputElement = document.getElementById(inputId);\n",
              "  inputElement.disabled = false;\n",
              "\n",
              "  const outputElement = document.getElementById(outputId);\n",
              "  outputElement.innerHTML = '';\n",
              "\n",
              "  const pickedPromise = new Promise((resolve) => {\n",
              "    inputElement.addEventListener('change', (e) => {\n",
              "      resolve(e.target.files);\n",
              "    });\n",
              "  });\n",
              "\n",
              "  const cancel = document.createElement('button');\n",
              "  inputElement.parentElement.appendChild(cancel);\n",
              "  cancel.textContent = 'Cancel upload';\n",
              "  const cancelPromise = new Promise((resolve) => {\n",
              "    cancel.onclick = () => {\n",
              "      resolve(null);\n",
              "    };\n",
              "  });\n",
              "\n",
              "  // Wait for the user to pick the files.\n",
              "  const files = yield {\n",
              "    promise: Promise.race([pickedPromise, cancelPromise]),\n",
              "    response: {\n",
              "      action: 'starting',\n",
              "    }\n",
              "  };\n",
              "\n",
              "  cancel.remove();\n",
              "\n",
              "  // Disable the input element since further picks are not allowed.\n",
              "  inputElement.disabled = true;\n",
              "\n",
              "  if (!files) {\n",
              "    return {\n",
              "      response: {\n",
              "        action: 'complete',\n",
              "      }\n",
              "    };\n",
              "  }\n",
              "\n",
              "  for (const file of files) {\n",
              "    const li = document.createElement('li');\n",
              "    li.append(span(file.name, {fontWeight: 'bold'}));\n",
              "    li.append(span(\n",
              "        `(${file.type || 'n/a'}) - ${file.size} bytes, ` +\n",
              "        `last modified: ${\n",
              "            file.lastModifiedDate ? file.lastModifiedDate.toLocaleDateString() :\n",
              "                                    'n/a'} - `));\n",
              "    const percent = span('0% done');\n",
              "    li.appendChild(percent);\n",
              "\n",
              "    outputElement.appendChild(li);\n",
              "\n",
              "    const fileDataPromise = new Promise((resolve) => {\n",
              "      const reader = new FileReader();\n",
              "      reader.onload = (e) => {\n",
              "        resolve(e.target.result);\n",
              "      };\n",
              "      reader.readAsArrayBuffer(file);\n",
              "    });\n",
              "    // Wait for the data to be ready.\n",
              "    let fileData = yield {\n",
              "      promise: fileDataPromise,\n",
              "      response: {\n",
              "        action: 'continue',\n",
              "      }\n",
              "    };\n",
              "\n",
              "    // Use a chunked sending to avoid message size limits. See b/62115660.\n",
              "    let position = 0;\n",
              "    do {\n",
              "      const length = Math.min(fileData.byteLength - position, MAX_PAYLOAD_SIZE);\n",
              "      const chunk = new Uint8Array(fileData, position, length);\n",
              "      position += length;\n",
              "\n",
              "      const base64 = btoa(String.fromCharCode.apply(null, chunk));\n",
              "      yield {\n",
              "        response: {\n",
              "          action: 'append',\n",
              "          file: file.name,\n",
              "          data: base64,\n",
              "        },\n",
              "      };\n",
              "\n",
              "      let percentDone = fileData.byteLength === 0 ?\n",
              "          100 :\n",
              "          Math.round((position / fileData.byteLength) * 100);\n",
              "      percent.textContent = `${percentDone}% done`;\n",
              "\n",
              "    } while (position < fileData.byteLength);\n",
              "  }\n",
              "\n",
              "  // All done.\n",
              "  yield {\n",
              "    response: {\n",
              "      action: 'complete',\n",
              "    }\n",
              "  };\n",
              "}\n",
              "\n",
              "scope.google = scope.google || {};\n",
              "scope.google.colab = scope.google.colab || {};\n",
              "scope.google.colab._files = {\n",
              "  _uploadFiles,\n",
              "  _uploadFilesContinue,\n",
              "};\n",
              "})(self);\n",
              "</script> "
            ]
          },
          "metadata": {}
        },
        {
          "output_type": "stream",
          "name": "stdout",
          "text": [
            "Saving transformer_weights.h5 to transformer_weights.h5\n"
          ]
        }
      ]
    },
    {
      "cell_type": "code",
      "source": [
        "transformer.load_weights(\"transformer_weights.h5\")"
      ],
      "metadata": {
        "id": "4df6E_itt3A5"
      },
      "execution_count": null,
      "outputs": []
    },
    {
      "cell_type": "markdown",
      "source": [
        "Below function for decoding from textbook"
      ],
      "metadata": {
        "id": "dPABwMmaqQQ6"
      }
    },
    {
      "cell_type": "code",
      "source": [
        "spanish_vocab = spanish_vectorization.get_vocabulary()\n",
        "spanish_index_lookup = dict(zip(range(len(spanish_vocab)), spanish_vocab))\n",
        "\n",
        "def remove_start_and_end_token(sentence):\n",
        "    return sentence.replace(\"[start] \", \"\").replace(\" [end]\", \"\")\n",
        "\n",
        "def decode_sequence(transformer, input_sentence):\n",
        "    tokenized_input_sentence = english_vectorization([input_sentence])\n",
        "    decoded_sentence = \"[start]\"\n",
        "    for i in range(sequence_length):\n",
        "        tokenized_target_sentence = spanish_vectorization([decoded_sentence])[:, :-1]\n",
        "        predictions = transformer([tokenized_input_sentence, tokenized_target_sentence])\n",
        "\n",
        "        sampled_token_index = np.argmax(predictions[0, i, :])\n",
        "        sampled_token = spanish_index_lookup[sampled_token_index]\n",
        "        decoded_sentence += \" \" + sampled_token\n",
        "\n",
        "        if sampled_token == \" end\":\n",
        "            break\n",
        "    return remove_start_and_end_token(decoded_sentence)"
      ],
      "metadata": {
        "id": "asymetbpY2FA"
      },
      "execution_count": null,
      "outputs": []
    },
    {
      "cell_type": "code",
      "source": [
        "for i in np.random.choice(len(data), 10):\n",
        "    item = data.iloc[i]\n",
        "    translated = decode_sequence(transformer, item[\"english\"])\n",
        "    print(\"English:\", remove_start_and_end_token(item[\"english\"]))\n",
        "    print(\"Spanish:\", remove_start_and_end_token(item[\"spanish\"]))\n",
        "    cleaned_trans = translated.replace(\" end\", \"\").strip()\n",
        "    rand_word = np.random.choice(spanish_vocab)\n",
        "    cleaned_trans = cleaned_trans.replace(\" [UNK]\", \" \" + rand_word).strip()\n",
        "    print(\"Translated:\", cleaned_trans)"
      ],
      "metadata": {
        "id": "1hfYFh-RMk7Z",
        "colab": {
          "base_uri": "https://localhost:8080/"
        },
        "outputId": "4bc8ab29-0b87-4ad5-bd6b-c01a1cd427af"
      },
      "execution_count": null,
      "outputs": [
        {
          "output_type": "stream",
          "name": "stdout",
          "text": [
            "English: I try to save 10% of my wages each month.\n",
            "Spanish: Cada mes intento ahorrar el 10% de mi sueldo.\n",
            "Translated: intento ahorrar el 10 de mi sueldo\n",
            "English: We found an anomaly.\n",
            "Spanish: Encontramos una anomalía.\n",
            "Translated: encontramos una apruebo\n",
            "English: This song is catchy.\n",
            "Spanish: Esta canción es pegadiza.\n",
            "Translated: esta canción es hecha\n",
            "English: Tom was watching Mary and John.\n",
            "Spanish: Tom estaba observando a Mary y a John.\n",
            "Translated: tom estaba observando a mary y a john\n",
            "English: She quickly went up the stairs.\n",
            "Spanish: Ella subió rápido por la escalera.\n",
            "Translated: ella subió rápido por la escalera\n",
            "English: I already told Tom everything I know.\n",
            "Spanish: Ya le dije a Tom todo lo que sé.\n",
            "Translated: ya le dije a tom todo lo que sé\n",
            "English: Tom is the kind of guy that argues for fun.\n",
            "Spanish: Tom es la clase de tipo que discute por diversión.\n",
            "Translated: tom es el tipo de tipo de buen tipo funcionaban\n",
            "English: They'll never know we're here.\n",
            "Spanish: Ellos nunca sabrán que estamos aquí.\n",
            "Translated: ellos nunca tesis aquí\n",
            "English: Tom hasn't heard from Mary since she moved to Boston.\n",
            "Spanish: Tom no ha oído de Mary desde que se mudó a Boston.\n",
            "Translated: tom no ha oído de mary desde que se mudó a boston  boston\n",
            "English: Today, we'll learn three new words.\n",
            "Spanish: Hoy aprenderemos tres palabras nuevas.\n",
            "Translated: hoy soplaba sus nuevas palabras\n"
          ]
        }
      ]
    }
  ]
}